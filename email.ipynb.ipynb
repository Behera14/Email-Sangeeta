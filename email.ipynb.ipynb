{
  "nbformat": 4,
  "nbformat_minor": 0,
  "metadata": {
    "colab": {
      "provenance": []
    },
    "kernelspec": {
      "name": "python3",
      "display_name": "Python 3"
    },
    "language_info": {
      "name": "python"
    }
  },
  "cells": [
    {
      "cell_type": "code",
      "execution_count": 1,
      "metadata": {
        "id": "mKM0_7vsla3A"
      },
      "outputs": [],
      "source": [
        "#  Install libraries (run once)\n",
        "!pip install -q scikit-learn pandas numpy joblib matplotlib"
      ]
    },
    {
      "cell_type": "code",
      "source": [
        "#  Upload the Unstop CSV (run and choose file)\n",
        "from google.colab import files\n",
        "uploaded = files.upload()"
      ],
      "metadata": {
        "colab": {
          "base_uri": "https://localhost:8080/",
          "height": 73
        },
        "id": "fE0QLNVtlemg",
        "outputId": "f2741297-0955-46a2-a793-dee1fd024f60"
      },
      "execution_count": 2,
      "outputs": [
        {
          "output_type": "display_data",
          "data": {
            "text/plain": [
              "<IPython.core.display.HTML object>"
            ],
            "text/html": [
              "\n",
              "     <input type=\"file\" id=\"files-03a244d5-9729-49f0-bd44-3f9f8ae95e64\" name=\"files[]\" multiple disabled\n",
              "        style=\"border:none\" />\n",
              "     <output id=\"result-03a244d5-9729-49f0-bd44-3f9f8ae95e64\">\n",
              "      Upload widget is only available when the cell has been executed in the\n",
              "      current browser session. Please rerun this cell to enable.\n",
              "      </output>\n",
              "      <script>// Copyright 2017 Google LLC\n",
              "//\n",
              "// Licensed under the Apache License, Version 2.0 (the \"License\");\n",
              "// you may not use this file except in compliance with the License.\n",
              "// You may obtain a copy of the License at\n",
              "//\n",
              "//      http://www.apache.org/licenses/LICENSE-2.0\n",
              "//\n",
              "// Unless required by applicable law or agreed to in writing, software\n",
              "// distributed under the License is distributed on an \"AS IS\" BASIS,\n",
              "// WITHOUT WARRANTIES OR CONDITIONS OF ANY KIND, either express or implied.\n",
              "// See the License for the specific language governing permissions and\n",
              "// limitations under the License.\n",
              "\n",
              "/**\n",
              " * @fileoverview Helpers for google.colab Python module.\n",
              " */\n",
              "(function(scope) {\n",
              "function span(text, styleAttributes = {}) {\n",
              "  const element = document.createElement('span');\n",
              "  element.textContent = text;\n",
              "  for (const key of Object.keys(styleAttributes)) {\n",
              "    element.style[key] = styleAttributes[key];\n",
              "  }\n",
              "  return element;\n",
              "}\n",
              "\n",
              "// Max number of bytes which will be uploaded at a time.\n",
              "const MAX_PAYLOAD_SIZE = 100 * 1024;\n",
              "\n",
              "function _uploadFiles(inputId, outputId) {\n",
              "  const steps = uploadFilesStep(inputId, outputId);\n",
              "  const outputElement = document.getElementById(outputId);\n",
              "  // Cache steps on the outputElement to make it available for the next call\n",
              "  // to uploadFilesContinue from Python.\n",
              "  outputElement.steps = steps;\n",
              "\n",
              "  return _uploadFilesContinue(outputId);\n",
              "}\n",
              "\n",
              "// This is roughly an async generator (not supported in the browser yet),\n",
              "// where there are multiple asynchronous steps and the Python side is going\n",
              "// to poll for completion of each step.\n",
              "// This uses a Promise to block the python side on completion of each step,\n",
              "// then passes the result of the previous step as the input to the next step.\n",
              "function _uploadFilesContinue(outputId) {\n",
              "  const outputElement = document.getElementById(outputId);\n",
              "  const steps = outputElement.steps;\n",
              "\n",
              "  const next = steps.next(outputElement.lastPromiseValue);\n",
              "  return Promise.resolve(next.value.promise).then((value) => {\n",
              "    // Cache the last promise value to make it available to the next\n",
              "    // step of the generator.\n",
              "    outputElement.lastPromiseValue = value;\n",
              "    return next.value.response;\n",
              "  });\n",
              "}\n",
              "\n",
              "/**\n",
              " * Generator function which is called between each async step of the upload\n",
              " * process.\n",
              " * @param {string} inputId Element ID of the input file picker element.\n",
              " * @param {string} outputId Element ID of the output display.\n",
              " * @return {!Iterable<!Object>} Iterable of next steps.\n",
              " */\n",
              "function* uploadFilesStep(inputId, outputId) {\n",
              "  const inputElement = document.getElementById(inputId);\n",
              "  inputElement.disabled = false;\n",
              "\n",
              "  const outputElement = document.getElementById(outputId);\n",
              "  outputElement.innerHTML = '';\n",
              "\n",
              "  const pickedPromise = new Promise((resolve) => {\n",
              "    inputElement.addEventListener('change', (e) => {\n",
              "      resolve(e.target.files);\n",
              "    });\n",
              "  });\n",
              "\n",
              "  const cancel = document.createElement('button');\n",
              "  inputElement.parentElement.appendChild(cancel);\n",
              "  cancel.textContent = 'Cancel upload';\n",
              "  const cancelPromise = new Promise((resolve) => {\n",
              "    cancel.onclick = () => {\n",
              "      resolve(null);\n",
              "    };\n",
              "  });\n",
              "\n",
              "  // Wait for the user to pick the files.\n",
              "  const files = yield {\n",
              "    promise: Promise.race([pickedPromise, cancelPromise]),\n",
              "    response: {\n",
              "      action: 'starting',\n",
              "    }\n",
              "  };\n",
              "\n",
              "  cancel.remove();\n",
              "\n",
              "  // Disable the input element since further picks are not allowed.\n",
              "  inputElement.disabled = true;\n",
              "\n",
              "  if (!files) {\n",
              "    return {\n",
              "      response: {\n",
              "        action: 'complete',\n",
              "      }\n",
              "    };\n",
              "  }\n",
              "\n",
              "  for (const file of files) {\n",
              "    const li = document.createElement('li');\n",
              "    li.append(span(file.name, {fontWeight: 'bold'}));\n",
              "    li.append(span(\n",
              "        `(${file.type || 'n/a'}) - ${file.size} bytes, ` +\n",
              "        `last modified: ${\n",
              "            file.lastModifiedDate ? file.lastModifiedDate.toLocaleDateString() :\n",
              "                                    'n/a'} - `));\n",
              "    const percent = span('0% done');\n",
              "    li.appendChild(percent);\n",
              "\n",
              "    outputElement.appendChild(li);\n",
              "\n",
              "    const fileDataPromise = new Promise((resolve) => {\n",
              "      const reader = new FileReader();\n",
              "      reader.onload = (e) => {\n",
              "        resolve(e.target.result);\n",
              "      };\n",
              "      reader.readAsArrayBuffer(file);\n",
              "    });\n",
              "    // Wait for the data to be ready.\n",
              "    let fileData = yield {\n",
              "      promise: fileDataPromise,\n",
              "      response: {\n",
              "        action: 'continue',\n",
              "      }\n",
              "    };\n",
              "\n",
              "    // Use a chunked sending to avoid message size limits. See b/62115660.\n",
              "    let position = 0;\n",
              "    do {\n",
              "      const length = Math.min(fileData.byteLength - position, MAX_PAYLOAD_SIZE);\n",
              "      const chunk = new Uint8Array(fileData, position, length);\n",
              "      position += length;\n",
              "\n",
              "      const base64 = btoa(String.fromCharCode.apply(null, chunk));\n",
              "      yield {\n",
              "        response: {\n",
              "          action: 'append',\n",
              "          file: file.name,\n",
              "          data: base64,\n",
              "        },\n",
              "      };\n",
              "\n",
              "      let percentDone = fileData.byteLength === 0 ?\n",
              "          100 :\n",
              "          Math.round((position / fileData.byteLength) * 100);\n",
              "      percent.textContent = `${percentDone}% done`;\n",
              "\n",
              "    } while (position < fileData.byteLength);\n",
              "  }\n",
              "\n",
              "  // All done.\n",
              "  yield {\n",
              "    response: {\n",
              "      action: 'complete',\n",
              "    }\n",
              "  };\n",
              "}\n",
              "\n",
              "scope.google = scope.google || {};\n",
              "scope.google.colab = scope.google.colab || {};\n",
              "scope.google.colab._files = {\n",
              "  _uploadFiles,\n",
              "  _uploadFilesContinue,\n",
              "};\n",
              "})(self);\n",
              "</script> "
            ]
          },
          "metadata": {}
        },
        {
          "output_type": "stream",
          "name": "stdout",
          "text": [
            "Saving 68b1acd44f393_Sample_Support_Emails_Dataset.csv to 68b1acd44f393_Sample_Support_Emails_Dataset.csv\n"
          ]
        }
      ]
    },
    {
      "cell_type": "code",
      "source": [
        "# If upload successful, get filename automatically\n",
        "import io, sys, os\n",
        "if len(uploaded) == 0:\n",
        "    raise SystemExit(\"File not uploaded....\")\n",
        "fn = list(uploaded.keys())[0]\n",
        "print(\"Uploaded file:\", fn)"
      ],
      "metadata": {
        "colab": {
          "base_uri": "https://localhost:8080/"
        },
        "id": "3j9hZ0NLlsgQ",
        "outputId": "d8229606-a75c-46c9-8778-86f254be7d4b"
      },
      "execution_count": 6,
      "outputs": [
        {
          "output_type": "stream",
          "name": "stdout",
          "text": [
            "Uploaded file: 68b1acd44f393_Sample_Support_Emails_Dataset.csv\n"
          ]
        }
      ]
    },
    {
      "cell_type": "code",
      "source": [
        "#  Load dataset\n",
        "import pandas as pd\n",
        "df = pd.read_csv(fn)\n",
        "print(\"Shape:\", df.shape)\n",
        "display(df.head())"
      ],
      "metadata": {
        "colab": {
          "base_uri": "https://localhost:8080/",
          "height": 223
        },
        "id": "81yOSn0LmUn5",
        "outputId": "b30e9fae-88cd-4d69-a295-51e96dd50777"
      },
      "execution_count": 7,
      "outputs": [
        {
          "output_type": "stream",
          "name": "stdout",
          "text": [
            "Shape: (20, 4)\n"
          ]
        },
        {
          "output_type": "display_data",
          "data": {
            "text/plain": [
              "              sender                                     subject  \\\n",
              "0     eve@startup.io     Help required with account verification   \n",
              "1    diana@client.co            General query about subscription   \n",
              "2     eve@startup.io  Immediate support needed for billing error   \n",
              "3  alice@example.com       Urgent request: system access blocked   \n",
              "4     eve@startup.io              Question: integration with API   \n",
              "\n",
              "                                                body         sent_date  \n",
              "0  Do you support integration with third-party AP...  19/08/2025 00:58  \n",
              "1  Hi team, I am unable to log into my account si...  25/08/2025 00:58  \n",
              "2  Hello, I wanted to understand the pricing tier...  20/08/2025 12:58  \n",
              "3  Hi team, I am unable to log into my account si...  21/08/2025 21:58  \n",
              "4  Despite multiple attempts, I cannot reset my p...  20/08/2025 04:58  "
            ],
            "text/html": [
              "\n",
              "  <div id=\"df-203c0779-2ebf-4bd8-9662-75449cad8b3b\" class=\"colab-df-container\">\n",
              "    <div>\n",
              "<style scoped>\n",
              "    .dataframe tbody tr th:only-of-type {\n",
              "        vertical-align: middle;\n",
              "    }\n",
              "\n",
              "    .dataframe tbody tr th {\n",
              "        vertical-align: top;\n",
              "    }\n",
              "\n",
              "    .dataframe thead th {\n",
              "        text-align: right;\n",
              "    }\n",
              "</style>\n",
              "<table border=\"1\" class=\"dataframe\">\n",
              "  <thead>\n",
              "    <tr style=\"text-align: right;\">\n",
              "      <th></th>\n",
              "      <th>sender</th>\n",
              "      <th>subject</th>\n",
              "      <th>body</th>\n",
              "      <th>sent_date</th>\n",
              "    </tr>\n",
              "  </thead>\n",
              "  <tbody>\n",
              "    <tr>\n",
              "      <th>0</th>\n",
              "      <td>eve@startup.io</td>\n",
              "      <td>Help required with account verification</td>\n",
              "      <td>Do you support integration with third-party AP...</td>\n",
              "      <td>19/08/2025 00:58</td>\n",
              "    </tr>\n",
              "    <tr>\n",
              "      <th>1</th>\n",
              "      <td>diana@client.co</td>\n",
              "      <td>General query about subscription</td>\n",
              "      <td>Hi team, I am unable to log into my account si...</td>\n",
              "      <td>25/08/2025 00:58</td>\n",
              "    </tr>\n",
              "    <tr>\n",
              "      <th>2</th>\n",
              "      <td>eve@startup.io</td>\n",
              "      <td>Immediate support needed for billing error</td>\n",
              "      <td>Hello, I wanted to understand the pricing tier...</td>\n",
              "      <td>20/08/2025 12:58</td>\n",
              "    </tr>\n",
              "    <tr>\n",
              "      <th>3</th>\n",
              "      <td>alice@example.com</td>\n",
              "      <td>Urgent request: system access blocked</td>\n",
              "      <td>Hi team, I am unable to log into my account si...</td>\n",
              "      <td>21/08/2025 21:58</td>\n",
              "    </tr>\n",
              "    <tr>\n",
              "      <th>4</th>\n",
              "      <td>eve@startup.io</td>\n",
              "      <td>Question: integration with API</td>\n",
              "      <td>Despite multiple attempts, I cannot reset my p...</td>\n",
              "      <td>20/08/2025 04:58</td>\n",
              "    </tr>\n",
              "  </tbody>\n",
              "</table>\n",
              "</div>\n",
              "    <div class=\"colab-df-buttons\">\n",
              "\n",
              "  <div class=\"colab-df-container\">\n",
              "    <button class=\"colab-df-convert\" onclick=\"convertToInteractive('df-203c0779-2ebf-4bd8-9662-75449cad8b3b')\"\n",
              "            title=\"Convert this dataframe to an interactive table.\"\n",
              "            style=\"display:none;\">\n",
              "\n",
              "  <svg xmlns=\"http://www.w3.org/2000/svg\" height=\"24px\" viewBox=\"0 -960 960 960\">\n",
              "    <path d=\"M120-120v-720h720v720H120Zm60-500h600v-160H180v160Zm220 220h160v-160H400v160Zm0 220h160v-160H400v160ZM180-400h160v-160H180v160Zm440 0h160v-160H620v160ZM180-180h160v-160H180v160Zm440 0h160v-160H620v160Z\"/>\n",
              "  </svg>\n",
              "    </button>\n",
              "\n",
              "  <style>\n",
              "    .colab-df-container {\n",
              "      display:flex;\n",
              "      gap: 12px;\n",
              "    }\n",
              "\n",
              "    .colab-df-convert {\n",
              "      background-color: #E8F0FE;\n",
              "      border: none;\n",
              "      border-radius: 50%;\n",
              "      cursor: pointer;\n",
              "      display: none;\n",
              "      fill: #1967D2;\n",
              "      height: 32px;\n",
              "      padding: 0 0 0 0;\n",
              "      width: 32px;\n",
              "    }\n",
              "\n",
              "    .colab-df-convert:hover {\n",
              "      background-color: #E2EBFA;\n",
              "      box-shadow: 0px 1px 2px rgba(60, 64, 67, 0.3), 0px 1px 3px 1px rgba(60, 64, 67, 0.15);\n",
              "      fill: #174EA6;\n",
              "    }\n",
              "\n",
              "    .colab-df-buttons div {\n",
              "      margin-bottom: 4px;\n",
              "    }\n",
              "\n",
              "    [theme=dark] .colab-df-convert {\n",
              "      background-color: #3B4455;\n",
              "      fill: #D2E3FC;\n",
              "    }\n",
              "\n",
              "    [theme=dark] .colab-df-convert:hover {\n",
              "      background-color: #434B5C;\n",
              "      box-shadow: 0px 1px 3px 1px rgba(0, 0, 0, 0.15);\n",
              "      filter: drop-shadow(0px 1px 2px rgba(0, 0, 0, 0.3));\n",
              "      fill: #FFFFFF;\n",
              "    }\n",
              "  </style>\n",
              "\n",
              "    <script>\n",
              "      const buttonEl =\n",
              "        document.querySelector('#df-203c0779-2ebf-4bd8-9662-75449cad8b3b button.colab-df-convert');\n",
              "      buttonEl.style.display =\n",
              "        google.colab.kernel.accessAllowed ? 'block' : 'none';\n",
              "\n",
              "      async function convertToInteractive(key) {\n",
              "        const element = document.querySelector('#df-203c0779-2ebf-4bd8-9662-75449cad8b3b');\n",
              "        const dataTable =\n",
              "          await google.colab.kernel.invokeFunction('convertToInteractive',\n",
              "                                                    [key], {});\n",
              "        if (!dataTable) return;\n",
              "\n",
              "        const docLinkHtml = 'Like what you see? Visit the ' +\n",
              "          '<a target=\"_blank\" href=https://colab.research.google.com/notebooks/data_table.ipynb>data table notebook</a>'\n",
              "          + ' to learn more about interactive tables.';\n",
              "        element.innerHTML = '';\n",
              "        dataTable['output_type'] = 'display_data';\n",
              "        await google.colab.output.renderOutput(dataTable, element);\n",
              "        const docLink = document.createElement('div');\n",
              "        docLink.innerHTML = docLinkHtml;\n",
              "        element.appendChild(docLink);\n",
              "      }\n",
              "    </script>\n",
              "  </div>\n",
              "\n",
              "\n",
              "    <div id=\"df-1cba65d2-767c-46a5-adf1-a92132f5170c\">\n",
              "      <button class=\"colab-df-quickchart\" onclick=\"quickchart('df-1cba65d2-767c-46a5-adf1-a92132f5170c')\"\n",
              "                title=\"Suggest charts\"\n",
              "                style=\"display:none;\">\n",
              "\n",
              "<svg xmlns=\"http://www.w3.org/2000/svg\" height=\"24px\"viewBox=\"0 0 24 24\"\n",
              "     width=\"24px\">\n",
              "    <g>\n",
              "        <path d=\"M19 3H5c-1.1 0-2 .9-2 2v14c0 1.1.9 2 2 2h14c1.1 0 2-.9 2-2V5c0-1.1-.9-2-2-2zM9 17H7v-7h2v7zm4 0h-2V7h2v10zm4 0h-2v-4h2v4z\"/>\n",
              "    </g>\n",
              "</svg>\n",
              "      </button>\n",
              "\n",
              "<style>\n",
              "  .colab-df-quickchart {\n",
              "      --bg-color: #E8F0FE;\n",
              "      --fill-color: #1967D2;\n",
              "      --hover-bg-color: #E2EBFA;\n",
              "      --hover-fill-color: #174EA6;\n",
              "      --disabled-fill-color: #AAA;\n",
              "      --disabled-bg-color: #DDD;\n",
              "  }\n",
              "\n",
              "  [theme=dark] .colab-df-quickchart {\n",
              "      --bg-color: #3B4455;\n",
              "      --fill-color: #D2E3FC;\n",
              "      --hover-bg-color: #434B5C;\n",
              "      --hover-fill-color: #FFFFFF;\n",
              "      --disabled-bg-color: #3B4455;\n",
              "      --disabled-fill-color: #666;\n",
              "  }\n",
              "\n",
              "  .colab-df-quickchart {\n",
              "    background-color: var(--bg-color);\n",
              "    border: none;\n",
              "    border-radius: 50%;\n",
              "    cursor: pointer;\n",
              "    display: none;\n",
              "    fill: var(--fill-color);\n",
              "    height: 32px;\n",
              "    padding: 0;\n",
              "    width: 32px;\n",
              "  }\n",
              "\n",
              "  .colab-df-quickchart:hover {\n",
              "    background-color: var(--hover-bg-color);\n",
              "    box-shadow: 0 1px 2px rgba(60, 64, 67, 0.3), 0 1px 3px 1px rgba(60, 64, 67, 0.15);\n",
              "    fill: var(--button-hover-fill-color);\n",
              "  }\n",
              "\n",
              "  .colab-df-quickchart-complete:disabled,\n",
              "  .colab-df-quickchart-complete:disabled:hover {\n",
              "    background-color: var(--disabled-bg-color);\n",
              "    fill: var(--disabled-fill-color);\n",
              "    box-shadow: none;\n",
              "  }\n",
              "\n",
              "  .colab-df-spinner {\n",
              "    border: 2px solid var(--fill-color);\n",
              "    border-color: transparent;\n",
              "    border-bottom-color: var(--fill-color);\n",
              "    animation:\n",
              "      spin 1s steps(1) infinite;\n",
              "  }\n",
              "\n",
              "  @keyframes spin {\n",
              "    0% {\n",
              "      border-color: transparent;\n",
              "      border-bottom-color: var(--fill-color);\n",
              "      border-left-color: var(--fill-color);\n",
              "    }\n",
              "    20% {\n",
              "      border-color: transparent;\n",
              "      border-left-color: var(--fill-color);\n",
              "      border-top-color: var(--fill-color);\n",
              "    }\n",
              "    30% {\n",
              "      border-color: transparent;\n",
              "      border-left-color: var(--fill-color);\n",
              "      border-top-color: var(--fill-color);\n",
              "      border-right-color: var(--fill-color);\n",
              "    }\n",
              "    40% {\n",
              "      border-color: transparent;\n",
              "      border-right-color: var(--fill-color);\n",
              "      border-top-color: var(--fill-color);\n",
              "    }\n",
              "    60% {\n",
              "      border-color: transparent;\n",
              "      border-right-color: var(--fill-color);\n",
              "    }\n",
              "    80% {\n",
              "      border-color: transparent;\n",
              "      border-right-color: var(--fill-color);\n",
              "      border-bottom-color: var(--fill-color);\n",
              "    }\n",
              "    90% {\n",
              "      border-color: transparent;\n",
              "      border-bottom-color: var(--fill-color);\n",
              "    }\n",
              "  }\n",
              "</style>\n",
              "\n",
              "      <script>\n",
              "        async function quickchart(key) {\n",
              "          const quickchartButtonEl =\n",
              "            document.querySelector('#' + key + ' button');\n",
              "          quickchartButtonEl.disabled = true;  // To prevent multiple clicks.\n",
              "          quickchartButtonEl.classList.add('colab-df-spinner');\n",
              "          try {\n",
              "            const charts = await google.colab.kernel.invokeFunction(\n",
              "                'suggestCharts', [key], {});\n",
              "          } catch (error) {\n",
              "            console.error('Error during call to suggestCharts:', error);\n",
              "          }\n",
              "          quickchartButtonEl.classList.remove('colab-df-spinner');\n",
              "          quickchartButtonEl.classList.add('colab-df-quickchart-complete');\n",
              "        }\n",
              "        (() => {\n",
              "          let quickchartButtonEl =\n",
              "            document.querySelector('#df-1cba65d2-767c-46a5-adf1-a92132f5170c button');\n",
              "          quickchartButtonEl.style.display =\n",
              "            google.colab.kernel.accessAllowed ? 'block' : 'none';\n",
              "        })();\n",
              "      </script>\n",
              "    </div>\n",
              "\n",
              "    </div>\n",
              "  </div>\n"
            ],
            "application/vnd.google.colaboratory.intrinsic+json": {
              "type": "dataframe",
              "summary": "{\n  \"name\": \"display(df\",\n  \"rows\": 5,\n  \"fields\": [\n    {\n      \"column\": \"sender\",\n      \"properties\": {\n        \"dtype\": \"string\",\n        \"num_unique_values\": 3,\n        \"samples\": [\n          \"eve@startup.io\",\n          \"diana@client.co\",\n          \"alice@example.com\"\n        ],\n        \"semantic_type\": \"\",\n        \"description\": \"\"\n      }\n    },\n    {\n      \"column\": \"subject\",\n      \"properties\": {\n        \"dtype\": \"string\",\n        \"num_unique_values\": 5,\n        \"samples\": [\n          \"General query about subscription\",\n          \"Question: integration with API\",\n          \"Immediate support needed for billing error\"\n        ],\n        \"semantic_type\": \"\",\n        \"description\": \"\"\n      }\n    },\n    {\n      \"column\": \"body\",\n      \"properties\": {\n        \"dtype\": \"string\",\n        \"num_unique_values\": 4,\n        \"samples\": [\n          \"Hi team, I am unable to log into my account since yesterday. Could you please help me resolve this issue?\",\n          \"Despite multiple attempts, I cannot reset my password. The reset link doesn\\u2019t seem to work.\",\n          \"Do you support integration with third-party APIs? Specifically, I\\u2019m looking for CRM integration options.\"\n        ],\n        \"semantic_type\": \"\",\n        \"description\": \"\"\n      }\n    },\n    {\n      \"column\": \"sent_date\",\n      \"properties\": {\n        \"dtype\": \"object\",\n        \"num_unique_values\": 5,\n        \"samples\": [\n          \"25/08/2025 00:58\",\n          \"20/08/2025 04:58\",\n          \"20/08/2025 12:58\"\n        ],\n        \"semantic_type\": \"\",\n        \"description\": \"\"\n      }\n    }\n  ]\n}"
            }
          },
          "metadata": {}
        }
      ]
    },
    {
      "cell_type": "code",
      "source": [
        "#  Basic EDA & preprocessing\n",
        "# Combine subject + body into a single text column\n",
        "df['subject'] = df['subject'].astype(str)\n",
        "df['body'] = df['body'].astype(str)\n",
        "df['text'] = (df['subject'] + \" \" + df['body']).str.strip()\n",
        "\n",
        "print(\"\\nColumns:\", df.columns.tolist())\n",
        "print(\"\\nSample text examples:\")\n",
        "for i, row in df.head(6).iterrows():\n",
        "    print(f\"\\n--- row {i} ---\")\n",
        "    print(row['text'][:300])\n",
        "\n"
      ],
      "metadata": {
        "colab": {
          "base_uri": "https://localhost:8080/"
        },
        "id": "Fjhal7HImhR4",
        "outputId": "003b5b5e-0605-4b00-9181-46f519e70968"
      },
      "execution_count": 9,
      "outputs": [
        {
          "output_type": "stream",
          "name": "stdout",
          "text": [
            "\n",
            "Columns: ['sender', 'subject', 'body', 'sent_date', 'text']\n",
            "\n",
            "Sample text examples:\n",
            "\n",
            "--- row 0 ---\n",
            "Help required with account verification Do you support integration with third-party APIs? Specifically, I’m looking for CRM integration options.\n",
            "\n",
            "--- row 1 ---\n",
            "General query about subscription Hi team, I am unable to log into my account since yesterday. Could you please help me resolve this issue?\n",
            "\n",
            "--- row 2 ---\n",
            "Immediate support needed for billing error Hello, I wanted to understand the pricing tiers better. Could you share a detailed breakdown?\n",
            "\n",
            "--- row 3 ---\n",
            "Urgent request: system access blocked Hi team, I am unable to log into my account since yesterday. Could you please help me resolve this issue?\n",
            "\n",
            "--- row 4 ---\n",
            "Question: integration with API Despite multiple attempts, I cannot reset my password. The reset link doesn’t seem to work.\n",
            "\n",
            "--- row 5 ---\n",
            "Critical help needed for downtime Hi team, I am unable to log into my account since yesterday. Could you please help me resolve this issue?\n"
          ]
        }
      ]
    },
    {
      "cell_type": "code",
      "source": [
        "#  TF-IDF vectorization\n",
        "from sklearn.feature_extraction.text import TfidfVectorizer\n",
        "tfidf = TfidfVectorizer(stop_words=\"english\", max_df=0.85, min_df=1, ngram_range=(1,2))\n",
        "X_tfidf = tfidf.fit_transform(df['text'])\n",
        "print(\"\\nTF-IDF shape:\", X_tfidf.shape)\n"
      ],
      "metadata": {
        "colab": {
          "base_uri": "https://localhost:8080/"
        },
        "id": "P9dvAA5GnECH",
        "outputId": "90369075-a0b4-41ee-a332-1b75efd5612d"
      },
      "execution_count": 10,
      "outputs": [
        {
          "output_type": "stream",
          "name": "stdout",
          "text": [
            "\n",
            "TF-IDF shape: (20, 180)\n"
          ]
        }
      ]
    },
    {
      "cell_type": "code",
      "source": [
        "#   Find a good k using silhouette / inertia\n",
        "from sklearn.cluster import KMeans\n",
        "import matplotlib.pyplot as plt\n",
        "from sklearn.metrics import silhouette_score\n",
        "ks = list(range(2,7))  # 2..6\n",
        "inertias = []\n",
        "sil_scores = []\n",
        "for k in ks:\n",
        "    km = KMeans(n_clusters=k, random_state=42, n_init=10)\n",
        "    labels = km.fit_predict(X_tfidf)\n",
        "    inertias.append(km.inertia_)\n",
        "    try:\n",
        "        sil_scores.append(silhouette_score(X_tfidf, labels))\n",
        "    except:\n",
        "        sil_scores.append(float('nan'))\n",
        "\n",
        "plt.figure(figsize=(10,4))\n",
        "plt.subplot(1,2,1)\n",
        "plt.plot(ks, inertias, marker='o')\n",
        "plt.title(\"Elbow (inertia)\")\n",
        "plt.xlabel(\"k\")\n",
        "plt.subplot(1,2,2)\n",
        "plt.plot(ks, sil_scores, marker='o')\n",
        "plt.title(\"Silhouette score\")\n",
        "plt.xlabel(\"k\")\n",
        "plt.tight_layout()\n",
        "plt.show()\n",
        "\n",
        "# Choose k (default 6). If elbow or silhouette suggests others, change k below.\n",
        "k = 6"
      ],
      "metadata": {
        "colab": {
          "base_uri": "https://localhost:8080/",
          "height": 407
        },
        "id": "DRwI6RHunWAD",
        "outputId": "20480d99-2bf0-44cf-e847-05d5dbbb476c"
      },
      "execution_count": 11,
      "outputs": [
        {
          "output_type": "display_data",
          "data": {
            "text/plain": [
              "<Figure size 1000x400 with 2 Axes>"
            ],
            "image/png": "[encoded data removed]"
          },
          "metadata": {}
        }
      ]
    },
    {
      "cell_type": "code",
      "source": [
        "#  KMeans clustering\n",
        "kmeans = KMeans(n_clusters=k, random_state=42, n_init=10)\n",
        "df['cluster'] = kmeans.fit_predict(X_tfidf)\n",
        "print(\"\\nCluster counts:\")\n",
        "display(df['cluster'].value_counts().sort_index())"
      ],
      "metadata": {
        "colab": {
          "base_uri": "https://localhost:8080/",
          "height": 338
        },
        "id": "T-ph4zPInrlB",
        "outputId": "b4d62454-a0da-483e-9948-16c957f861bb"
      },
      "execution_count": 12,
      "outputs": [
        {
          "output_type": "stream",
          "name": "stdout",
          "text": [
            "\n",
            "Cluster counts:\n"
          ]
        },
        {
          "output_type": "display_data",
          "data": {
            "text/plain": [
              "cluster\n",
              "0    4\n",
              "1    3\n",
              "2    4\n",
              "3    3\n",
              "4    2\n",
              "5    4\n",
              "Name: count, dtype: int64"
            ],
            "text/html": [
              "<div>\n",
              "<style scoped>\n",
              "    .dataframe tbody tr th:only-of-type {\n",
              "        vertical-align: middle;\n",
              "    }\n",
              "\n",
              "    .dataframe tbody tr th {\n",
              "        vertical-align: top;\n",
              "    }\n",
              "\n",
              "    .dataframe thead th {\n",
              "        text-align: right;\n",
              "    }\n",
              "</style>\n",
              "<table border=\"1\" class=\"dataframe\">\n",
              "  <thead>\n",
              "    <tr style=\"text-align: right;\">\n",
              "      <th></th>\n",
              "      <th>count</th>\n",
              "    </tr>\n",
              "    <tr>\n",
              "      <th>cluster</th>\n",
              "      <th></th>\n",
              "    </tr>\n",
              "  </thead>\n",
              "  <tbody>\n",
              "    <tr>\n",
              "      <th>0</th>\n",
              "      <td>4</td>\n",
              "    </tr>\n",
              "    <tr>\n",
              "      <th>1</th>\n",
              "      <td>3</td>\n",
              "    </tr>\n",
              "    <tr>\n",
              "      <th>2</th>\n",
              "      <td>4</td>\n",
              "    </tr>\n",
              "    <tr>\n",
              "      <th>3</th>\n",
              "      <td>3</td>\n",
              "    </tr>\n",
              "    <tr>\n",
              "      <th>4</th>\n",
              "      <td>2</td>\n",
              "    </tr>\n",
              "    <tr>\n",
              "      <th>5</th>\n",
              "      <td>4</td>\n",
              "    </tr>\n",
              "  </tbody>\n",
              "</table>\n",
              "</div><br><label><b>dtype:</b> int64</label>"
            ]
          },
          "metadata": {}
        }
      ]
    },
    {
      "cell_type": "code",
      "source": [
        "#  Top terms per cluster -> use cluster centers to find important words\n",
        "terms = tfidf.get_feature_names_out()\n",
        "order_centroids = kmeans.cluster_centers_.argsort()[:, ::-1]\n",
        "\n",
        "topn = 10\n",
        "cluster_terms = {}\n",
        "print(\"\\nTop terms per cluster:\")\n",
        "for i in range(k):\n",
        "    top_terms = [terms[ind] for ind in order_centroids[i, :topn]]\n",
        "    cluster_terms[i] = top_terms\n",
        "    print(f\"Cluster {i}:\", \", \".join(top_terms))\n",
        "\n"
      ],
      "metadata": {
        "colab": {
          "base_uri": "https://localhost:8080/"
        },
        "id": "JKhECfbSn6yi",
        "outputId": "09fe8c0d-42a4-42df-efa5-e7c20744ec91"
      },
      "execution_count": 14,
      "outputs": [
        {
          "output_type": "stream",
          "name": "stdout",
          "text": [
            "\n",
            "Top terms per cluster:\n",
            "Cluster 0: issue, yesterday help, unable, yesterday, team, team unable, resolve issue, resolve, hi team, log\n",
            "Cluster 1: critical, servers, support highly, servers need, highly critical, need immediate, highly, need, immediate support, immediate\n",
            "Cluster 2: reset, work, reset password, reset link, despite multiple, despite, link doesn, link, attempts reset, attempts\n",
            "Cluster 3: integration, verification support, specifically, specifically looking, integration party, looking crm, integration options, looking, crm integration, crm\n",
            "Cluster 4: verifying, verification email, verifying account, issues verifying, facing issues, facing, email, email arrived, arrived, arrived assist\n",
            "Cluster 5: billing, error, billing error, twice needs, charged, immediate correction, needs immediate, error charged, needs, twice\n"
          ]
        }
      ]
    },
    {
      "cell_type": "code",
      "source": [
        "#  Show sample emails per cluster (up to 5)\n",
        "import textwrap\n",
        "print(\"\\nSample emails per cluster (up to 5 each):\")\n",
        "for i in range(k):\n",
        "    print(f\"\\n--- Cluster {i} (n={len(df[df['cluster']==i])}) ---\")\n",
        "    samples = df[df['cluster']==i]['text'].head(5).tolist()\n",
        "    if len(samples)==0:\n",
        "        print(\" (no examples)\")\n",
        "    for s in samples:\n",
        "        print(textwrap.fill(s, width=120))\n",
        "        print(\"----\")\n"
      ],
      "metadata": {
        "colab": {
          "base_uri": "https://localhost:8080/"
        },
        "id": "SEd6GFT8oDcH",
        "outputId": "e9f1f852-4241-4c2f-aecf-3e312e1b5e14"
      },
      "execution_count": 15,
      "outputs": [
        {
          "output_type": "stream",
          "name": "stdout",
          "text": [
            "\n",
            "Sample emails per cluster (up to 5 each):\n",
            "\n",
            "--- Cluster 0 (n=4) ---\n",
            "General query about subscription Hi team, I am unable to log into my account since yesterday. Could you please help me\n",
            "resolve this issue?\n",
            "----\n",
            "Urgent request: system access blocked Hi team, I am unable to log into my account since yesterday. Could you please help\n",
            "me resolve this issue?\n",
            "----\n",
            "Critical help needed for downtime Hi team, I am unable to log into my account since yesterday. Could you please help me\n",
            "resolve this issue?\n",
            "----\n",
            "Support needed for login issue Hi team, I am unable to log into my account since yesterday. Could you please help me\n",
            "resolve this issue?\n",
            "----\n",
            "\n",
            "--- Cluster 1 (n=3) ---\n",
            "General query about subscription Our servers are down, and we need immediate support. This is highly critical.\n",
            "----\n",
            "Critical help needed for downtime Our servers are down, and we need immediate support. This is highly critical.\n",
            "----\n",
            "Query about product pricing Our servers are down, and we need immediate support. This is highly critical.\n",
            "----\n",
            "\n",
            "--- Cluster 2 (n=4) ---\n",
            "Question: integration with API Despite multiple attempts, I cannot reset my password. The reset link doesn’t seem to\n",
            "work.\n",
            "----\n",
            "Immediate support needed for billing error Despite multiple attempts, I cannot reset my password. The reset link doesn’t\n",
            "seem to work.\n",
            "----\n",
            "Request for refund process clarification Could you clarify the steps involved in requesting a refund? I submitted one\n",
            "last week but have no update.\n",
            "----\n",
            "Urgent request: system access blocked Despite multiple attempts, I cannot reset my password. The reset link doesn’t seem\n",
            "to work.\n",
            "----\n",
            "\n",
            "--- Cluster 3 (n=3) ---\n",
            "Help required with account verification Do you support integration with third-party APIs? Specifically, I’m looking for\n",
            "CRM integration options.\n",
            "----\n",
            "Help required with account verification Do you support integration with third-party APIs? Specifically, I’m looking for\n",
            "CRM integration options.\n",
            "----\n",
            "Help required with account verification Do you support integration with third-party APIs? Specifically, I’m looking for\n",
            "CRM integration options.\n",
            "----\n",
            "\n",
            "--- Cluster 4 (n=2) ---\n",
            "Support needed for login issue I am facing issues with verifying my account. The verification email never arrived. Can\n",
            "you assist?\n",
            "----\n",
            "General query about subscription I am facing issues with verifying my account. The verification email never arrived. Can\n",
            "you assist?\n",
            "----\n",
            "\n",
            "--- Cluster 5 (n=4) ---\n",
            "Immediate support needed for billing error Hello, I wanted to understand the pricing tiers better. Could you share a\n",
            "detailed breakdown?\n",
            "----\n",
            "Help required with account verification There is a billing error where I was charged twice. This needs immediate\n",
            "correction.\n",
            "----\n",
            "Query about product pricing There is a billing error where I was charged twice. This needs immediate correction.\n",
            "----\n",
            "Help required with account verification This is urgent – our system is completely inaccessible, and this is affecting\n",
            "our operations.\n",
            "----\n"
          ]
        }
      ]
    },
    {
      "cell_type": "code",
      "source": [
        "# Suggested cluster -> category mapping (change after inspecting top terms)\n",
        "# These are suggested defaults — change if top terms indicate different meaning.\n",
        "cluster_map = {\n",
        "    0: \"Billing / Payment\",\n",
        "    1: \"Login / Account Verification\",\n",
        "    2: \"Downtime / Outage / Critical\",\n",
        "    3: \"Integration / API / Feature request\",\n",
        "    4: \"General / Pricing / Subscription\",\n",
        "    5: \"Password reset / Access issues\"\n",
        "}\n",
        "\n",
        "df['category'] = df['cluster'].map(cluster_map)"
      ],
      "metadata": {
        "id": "13sWupODoT4A"
      },
      "execution_count": 16,
      "outputs": []
    },
    {
      "cell_type": "code",
      "source": [
        "#  Save predictions.csv (sender, subject, body, sent_date, cluster, category)\n",
        "out_cols = [c for c in ['sender','subject','body','sent_date','cluster','category'] if c in df.columns or c in ['cluster','category']]\n",
        "df.to_csv(\"predictions.csv\", index=False, columns=out_cols)\n",
        "print(\"\\nSaved predictions.csv with columns:\", out_cols)"
      ],
      "metadata": {
        "colab": {
          "base_uri": "https://localhost:8080/"
        },
        "id": "4zm01RzkosZh",
        "outputId": "fb29bf67-daed-44b9-c04e-b257b229fdec"
      },
      "execution_count": 17,
      "outputs": [
        {
          "output_type": "stream",
          "name": "stdout",
          "text": [
            "\n",
            "Saved predictions.csv with columns: ['sender', 'subject', 'body', 'sent_date', 'cluster', 'category']\n"
          ]
        }
      ]
    },
    {
      "cell_type": "code",
      "source": [
        "#  Save models + vectorizer (so you can run inference later)\n",
        "import joblib\n",
        "joblib.dump(kmeans, \"kmeans_model.pkl\")\n",
        "joblib.dump(tfidf, \"tfidf_vectorizer.pkl\")\n",
        "print(\"Saved kmeans_model.pkl and tfidf_vectorizer.pkl\")"
      ],
      "metadata": {
        "colab": {
          "base_uri": "https://localhost:8080/"
        },
        "id": "EPN4Kyi3o5v7",
        "outputId": "192c3f9b-7224-420d-a115-f9bfaa73a0d0"
      },
      "execution_count": 18,
      "outputs": [
        {
          "output_type": "stream",
          "name": "stdout",
          "text": [
            "Saved kmeans_model.pkl and tfidf_vectorizer.pkl\n"
          ]
        }
      ]
    },
    {
      "cell_type": "code",
      "source": [
        "#  Save requirements.txt and README.md\n",
        "with open(\"requirements.txt\",\"w\") as f:\n",
        "    f.write(\"pandas\\nscikit-learn\\nnumpy\\njoblib\\nmatplotlib\\n\")\n",
        "readme_text = f\"\"\"\n",
        "# Support Email Clustering (Unsupervised)\n",
        "\n",
        "This repo clusters support emails into categories using TF-IDF + KMeans.\n",
        "\n",
        "## What I did\n",
        "- Combined `subject` + `body` into `text`\n",
        "- TF-IDF vectorization\n",
        "- KMeans clustering (k={k})\n",
        "- Inspected top terms and sample emails per cluster\n",
        "- Mapped cluster numbers to human-readable categories\n",
        "\n",
        "## Files generated\n",
        "- predictions.csv  (original columns + cluster + category)\n",
        "- kmeans_model.pkl\n",
        "- tfidf_vectorizer.pkl\n",
        "- requirements.txt\n",
        "\n",
        "## How to run\n",
        "1. Upload `Sample_Support_Emails_Dataset.csv` to Colab\n",
        "2. Run the notebook cells in order\n",
        "3. Download `predictions.csv` and upload to GitHub for submission\n",
        "\n",
        "\n",
        "\"\"\"\n",
        "with open(\"README.md\",\"w\") as f:\n",
        "    f.write(readme_text)\n",
        "print(\"Saved README.md and requirements.txt\")\n"
      ],
      "metadata": {
        "colab": {
          "base_uri": "https://localhost:8080/"
        },
        "id": "ubNGYqrUpZqw",
        "outputId": "7a327d19-371b-4905-ce29-5999e9db47d6"
      },
      "execution_count": 22,
      "outputs": [
        {
          "output_type": "stream",
          "name": "stdout",
          "text": [
            "Saved README.md and requirements.txt\n"
          ]
        }
      ]
    },
    {
      "cell_type": "code",
      "source": [
        "#  Download files to local (useful)\n",
        "from google.colab import files as gfiles\n",
        "gfiles.download(\"predictions.csv\")\n",
        "gfiles.download(\"README.md\")\n",
        "gfiles.download(\"requirements.txt\")\n",
        "gfiles.download(\"kmeans_model.pkl\")\n",
        "gfiles.download(\"tfidf_vectorizer.pkl\")\n",
        "print(\"Download prompts started\")"
      ],
      "metadata": {
        "colab": {
          "base_uri": "https://localhost:8080/",
          "height": 34
        },
        "id": "CqNk_prhqZl8",
        "outputId": "b5ef5d3f-e290-4ed7-84a1-476a89f1267c"
      },
      "execution_count": 23,
      "outputs": [
        {
          "output_type": "display_data",
          "data": {
            "text/plain": [
              "<IPython.core.display.Javascript object>"
            ],
            "application/javascript": [
              "\n",
              "    async function download(id, filename, size) {\n",
              "      if (!google.colab.kernel.accessAllowed) {\n",
              "        return;\n",
              "      }\n",
              "      const div = document.createElement('div');\n",
              "      const label = document.createElement('label');\n",
              "      label.textContent = `Downloading \"${filename}\": `;\n",
              "      div.appendChild(label);\n",
              "      const progress = document.createElement('progress');\n",
              "      progress.max = size;\n",
              "      div.appendChild(progress);\n",
              "      document.body.appendChild(div);\n",
              "\n",
              "      const buffers = [];\n",
              "      let downloaded = 0;\n",
              "\n",
              "      const channel = await google.colab.kernel.comms.open(id);\n",
              "      // Send a message to notify the kernel that we're ready.\n",
              "      channel.send({})\n",
              "\n",
              "      for await (const message of channel.messages) {\n",
              "        // Send a message to notify the kernel that we're ready.\n",
              "        channel.send({})\n",
              "        if (message.buffers) {\n",
              "          for (const buffer of message.buffers) {\n",
              "            buffers.push(buffer);\n",
              "            downloaded += buffer.byteLength;\n",
              "            progress.value = downloaded;\n",
              "          }\n",
              "        }\n",
              "      }\n",
              "      const blob = new Blob(buffers, {type: 'application/binary'});\n",
              "      const a = document.createElement('a');\n",
              "      a.href = window.URL.createObjectURL(blob);\n",
              "      a.download = filename;\n",
              "      div.appendChild(a);\n",
              "      a.click();\n",
              "      div.remove();\n",
              "    }\n",
              "  "
            ]
          },
          "metadata": {}
        },
        {
          "output_type": "display_data",
          "data": {
            "text/plain": [
              "<IPython.core.display.Javascript object>"
            ],
            "application/javascript": [
              "download(\"download_8f82a6a2-d36f-43a9-a586-32b08d8d3e19\", \"predictions.csv\", 4013)"
            ]
          },
          "metadata": {}
        },
        {
          "output_type": "display_data",
          "data": {
            "text/plain": [
              "<IPython.core.display.Javascript object>"
            ],
            "application/javascript": [
              "\n",
              "    async function download(id, filename, size) {\n",
              "      if (!google.colab.kernel.accessAllowed) {\n",
              "        return;\n",
              "      }\n",
              "      const div = document.createElement('div');\n",
              "      const label = document.createElement('label');\n",
              "      label.textContent = `Downloading \"${filename}\": `;\n",
              "      div.appendChild(label);\n",
              "      const progress = document.createElement('progress');\n",
              "      progress.max = size;\n",
              "      div.appendChild(progress);\n",
              "      document.body.appendChild(div);\n",
              "\n",
              "      const buffers = [];\n",
              "      let downloaded = 0;\n",
              "\n",
              "      const channel = await google.colab.kernel.comms.open(id);\n",
              "      // Send a message to notify the kernel that we're ready.\n",
              "      channel.send({})\n",
              "\n",
              "      for await (const message of channel.messages) {\n",
              "        // Send a message to notify the kernel that we're ready.\n",
              "        channel.send({})\n",
              "        if (message.buffers) {\n",
              "          for (const buffer of message.buffers) {\n",
              "            buffers.push(buffer);\n",
              "            downloaded += buffer.byteLength;\n",
              "            progress.value = downloaded;\n",
              "          }\n",
              "        }\n",
              "      }\n",
              "      const blob = new Blob(buffers, {type: 'application/binary'});\n",
              "      const a = document.createElement('a');\n",
              "      a.href = window.URL.createObjectURL(blob);\n",
              "      a.download = filename;\n",
              "      div.appendChild(a);\n",
              "      a.click();\n",
              "      div.remove();\n",
              "    }\n",
              "  "
            ]
          },
          "metadata": {}
        },
        {
          "output_type": "display_data",
          "data": {
            "text/plain": [
              "<IPython.core.display.Javascript object>"
            ],
            "application/javascript": [
              "download(\"download_7f965b6e-bca9-4068-8f74-707b8b24b8db\", \"README.md\", 642)"
            ]
          },
          "metadata": {}
        },
        {
          "output_type": "display_data",
          "data": {
            "text/plain": [
              "<IPython.core.display.Javascript object>"
            ],
            "application/javascript": [
              "\n",
              "    async function download(id, filename, size) {\n",
              "      if (!google.colab.kernel.accessAllowed) {\n",
              "        return;\n",
              "      }\n",
              "      const div = document.createElement('div');\n",
              "      const label = document.createElement('label');\n",
              "      label.textContent = `Downloading \"${filename}\": `;\n",
              "      div.appendChild(label);\n",
              "      const progress = document.createElement('progress');\n",
              "      progress.max = size;\n",
              "      div.appendChild(progress);\n",
              "      document.body.appendChild(div);\n",
              "\n",
              "      const buffers = [];\n",
              "      let downloaded = 0;\n",
              "\n",
              "      const channel = await google.colab.kernel.comms.open(id);\n",
              "      // Send a message to notify the kernel that we're ready.\n",
              "      channel.send({})\n",
              "\n",
              "      for await (const message of channel.messages) {\n",
              "        // Send a message to notify the kernel that we're ready.\n",
              "        channel.send({})\n",
              "        if (message.buffers) {\n",
              "          for (const buffer of message.buffers) {\n",
              "            buffers.push(buffer);\n",
              "            downloaded += buffer.byteLength;\n",
              "            progress.value = downloaded;\n",
              "          }\n",
              "        }\n",
              "      }\n",
              "      const blob = new Blob(buffers, {type: 'application/binary'});\n",
              "      const a = document.createElement('a');\n",
              "      a.href = window.URL.createObjectURL(blob);\n",
              "      a.download = filename;\n",
              "      div.appendChild(a);\n",
              "      a.click();\n",
              "      div.remove();\n",
              "    }\n",
              "  "
            ]
          },
          "metadata": {}
        },
        {
          "output_type": "display_data",
          "data": {
            "text/plain": [
              "<IPython.core.display.Javascript object>"
            ],
            "application/javascript": [
              "download(\"download_651723fc-c110-4347-9ab3-bed5ecb1077a\", \"requirements.txt\", 44)"
            ]
          },
          "metadata": {}
        },
        {
          "output_type": "display_data",
          "data": {
            "text/plain": [
              "<IPython.core.display.Javascript object>"
            ],
            "application/javascript": [
              "\n",
              "    async function download(id, filename, size) {\n",
              "      if (!google.colab.kernel.accessAllowed) {\n",
              "        return;\n",
              "      }\n",
              "      const div = document.createElement('div');\n",
              "      const label = document.createElement('label');\n",
              "      label.textContent = `Downloading \"${filename}\": `;\n",
              "      div.appendChild(label);\n",
              "      const progress = document.createElement('progress');\n",
              "      progress.max = size;\n",
              "      div.appendChild(progress);\n",
              "      document.body.appendChild(div);\n",
              "\n",
              "      const buffers = [];\n",
              "      let downloaded = 0;\n",
              "\n",
              "      const channel = await google.colab.kernel.comms.open(id);\n",
              "      // Send a message to notify the kernel that we're ready.\n",
              "      channel.send({})\n",
              "\n",
              "      for await (const message of channel.messages) {\n",
              "        // Send a message to notify the kernel that we're ready.\n",
              "        channel.send({})\n",
              "        if (message.buffers) {\n",
              "          for (const buffer of message.buffers) {\n",
              "            buffers.push(buffer);\n",
              "            downloaded += buffer.byteLength;\n",
              "            progress.value = downloaded;\n",
              "          }\n",
              "        }\n",
              "      }\n",
              "      const blob = new Blob(buffers, {type: 'application/binary'});\n",
              "      const a = document.createElement('a');\n",
              "      a.href = window.URL.createObjectURL(blob);\n",
              "      a.download = filename;\n",
              "      div.appendChild(a);\n",
              "      a.click();\n",
              "      div.remove();\n",
              "    }\n",
              "  "
            ]
          },
          "metadata": {}
        },
        {
          "output_type": "display_data",
          "data": {
            "text/plain": [
              "<IPython.core.display.Javascript object>"
            ],
            "application/javascript": [
              "download(\"download_15f68732-0ec8-42d7-bc07-130625b63bef\", \"kmeans_model.pkl\", 9447)"
            ]
          },
          "metadata": {}
        },
        {
          "output_type": "display_data",
          "data": {
            "text/plain": [
              "<IPython.core.display.Javascript object>"
            ],
            "application/javascript": [
              "\n",
              "    async function download(id, filename, size) {\n",
              "      if (!google.colab.kernel.accessAllowed) {\n",
              "        return;\n",
              "      }\n",
              "      const div = document.createElement('div');\n",
              "      const label = document.createElement('label');\n",
              "      label.textContent = `Downloading \"${filename}\": `;\n",
              "      div.appendChild(label);\n",
              "      const progress = document.createElement('progress');\n",
              "      progress.max = size;\n",
              "      div.appendChild(progress);\n",
              "      document.body.appendChild(div);\n",
              "\n",
              "      const buffers = [];\n",
              "      let downloaded = 0;\n",
              "\n",
              "      const channel = await google.colab.kernel.comms.open(id);\n",
              "      // Send a message to notify the kernel that we're ready.\n",
              "      channel.send({})\n",
              "\n",
              "      for await (const message of channel.messages) {\n",
              "        // Send a message to notify the kernel that we're ready.\n",
              "        channel.send({})\n",
              "        if (message.buffers) {\n",
              "          for (const buffer of message.buffers) {\n",
              "            buffers.push(buffer);\n",
              "            downloaded += buffer.byteLength;\n",
              "            progress.value = downloaded;\n",
              "          }\n",
              "        }\n",
              "      }\n",
              "      const blob = new Blob(buffers, {type: 'application/binary'});\n",
              "      const a = document.createElement('a');\n",
              "      a.href = window.URL.createObjectURL(blob);\n",
              "      a.download = filename;\n",
              "      div.appendChild(a);\n",
              "      a.click();\n",
              "      div.remove();\n",
              "    }\n",
              "  "
            ]
          },
          "metadata": {}
        },
        {
          "output_type": "display_data",
          "data": {
            "text/plain": [
              "<IPython.core.display.Javascript object>"
            ],
            "application/javascript": [
              "download(\"download_a48e05be-7c1e-4e36-8f2a-b48be62f897c\", \"tfidf_vectorizer.pkl\", 5190)"
            ]
          },
          "metadata": {}
        },
        {
          "output_type": "stream",
          "name": "stdout",
          "text": [
            "Download prompts started\n"
          ]
        }
      ]
    },
    {
      "cell_type": "code",
      "source": [],
      "metadata": {
        "id": "bfXpFx9RrQ_9"
      },
      "execution_count": null,
      "outputs": []
    }
  ]
}